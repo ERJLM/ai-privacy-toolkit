{
 "cells": [
  {
   "cell_type": "markdown",
   "metadata": {},
   "source": [
    "# Using ML anonymization on one-hot encoded data"
   ]
  },
  {
   "cell_type": "markdown",
   "metadata": {},
   "source": [
    "In this tutorial we will show how to anonymize models using the ML anonymization module, specifically when the input data is already one-hot encoded. \n",
    "\n",
    "This will be demonstarted using the Adult dataset (original dataset can be found here: https://archive.ics.uci.edu/ml/datasets/adult). "
   ]
  },
  {
   "cell_type": "markdown",
   "metadata": {},
   "source": [
    "## Load data"
   ]
  },
  {
   "cell_type": "code",
   "execution_count": 282,
   "metadata": {},
   "outputs": [
    {
     "name": "stdout",
     "output_type": "stream",
     "text": [
      "[['State-gov' 'Never-married' 'Adm-clerical' ... 'White' 'Male'\n",
      "  'UnitedStates']\n",
      " ['Self-emp-not-inc' 'Married-civ-spouse' 'Exec-managerial' ... 'White'\n",
      "  'Male' 'UnitedStates']\n",
      " ['Private' 'Divorced' 'Handlers-cleaners' ... 'White' 'Male'\n",
      "  'UnitedStates']\n",
      " ...\n",
      " ['Private' 'Never-married' 'Sales' ... 'White' 'Female' 'UnitedStates']\n",
      " ['Private' 'Never-married' 'Craft-repair' ... 'White' 'Male'\n",
      "  'UnitedStates']\n",
      " ['Private' 'Never-married' 'Handlers-cleaners' ... 'White' 'Male'\n",
      "  'UnitedStates']]\n"
     ]
    }
   ],
   "source": [
    "import numpy as np\n",
    "\n",
    "import os\n",
    "import sys\n",
    "sys.path.insert(0, os.path.abspath('..'))\n",
    "from apt.utils.dataset_utils import get_adult_dataset_pd\n",
    "\n",
    "# 'workclass', 'marital-status', 'occupation', 'relationship', 'race', 'sex', 'native-country'\n",
    "categorical_features = [1, 3, 4, 5, 6, 7, 11]\n",
    "\n",
    "# requires a folder called 'datasets' in the current directory\n",
    "(x_train, y_train), (x_test, y_test) = get_adult_dataset_pd()\n",
    "x_train = x_train.to_numpy()[:, [1, 3, 4, 5, 6, 7, 11]]\n",
    "y_train = y_train.to_numpy().astype(int)\n",
    "x_test = x_test.to_numpy()[:, [1, 3, 4, 5, 6, 7, 11]]\n",
    "y_test = y_test.to_numpy().astype(int)\n",
    "\n",
    "# get balanced dataset\n",
    "x_train = x_train[:x_test.shape[0]]\n",
    "y_train = y_train[:y_test.shape[0]]\n",
    "\n",
    "print(x_train)"
   ]
  },
  {
   "cell_type": "markdown",
   "metadata": {},
   "source": [
    "## Encode data"
   ]
  },
  {
   "cell_type": "code",
   "execution_count": 283,
   "metadata": {},
   "outputs": [
    {
     "name": "stdout",
     "output_type": "stream",
     "text": [
      "[[0 0 0 ... 0 1 0]\n",
      " [0 0 0 ... 0 1 0]\n",
      " [0 0 0 ... 0 1 0]\n",
      " ...\n",
      " [0 0 0 ... 0 1 0]\n",
      " [0 0 0 ... 0 1 0]\n",
      " [0 0 0 ... 0 1 0]]\n"
     ]
    }
   ],
   "source": [
    "from sklearn.preprocessing import OneHotEncoder\n",
    "import scipy\n",
    "\n",
    "preprocessor = OneHotEncoder(handle_unknown=\"ignore\")\n",
    "\n",
    "x_train = preprocessor.fit_transform(x_train)\n",
    "x_test = preprocessor.transform(x_test)\n",
    "if scipy.sparse.issparse(x_train):\n",
    "    x_train = x_train.toarray().astype(int)\n",
    "if scipy.sparse.issparse(x_test):\n",
    "    x_test = x_test.toarray().astype(int)\n",
    "\n",
    "print(x_train)"
   ]
  },
  {
   "cell_type": "markdown",
   "metadata": {},
   "source": [
    "## Train decision tree model"
   ]
  },
  {
   "cell_type": "code",
   "execution_count": 284,
   "metadata": {},
   "outputs": [
    {
     "name": "stdout",
     "output_type": "stream",
     "text": [
      "Base model accuracy:  0.8147533935261961\n"
     ]
    }
   ],
   "source": [
    "from sklearn.tree import DecisionTreeClassifier\n",
    "from art.estimators.classification.scikitlearn import ScikitlearnDecisionTreeClassifier\n",
    "\n",
    "model = DecisionTreeClassifier()\n",
    "model.fit(x_train, y_train)\n",
    "\n",
    "art_classifier = ScikitlearnDecisionTreeClassifier(model)\n",
    "\n",
    "print('Base model accuracy: ', model.score(x_test, y_test))"
   ]
  },
  {
   "cell_type": "markdown",
   "metadata": {},
   "source": [
    "# Anonymize data\n",
    "## k=100\n",
    "\n",
    "The data is anonymized on the quasi-identifiers: age, education-num, capital-gain, hours-per-week and with a privact parameter k=100.\n",
    "\n",
    "This means that each record in the anonymized dataset is identical to 99 others on the quasi-identifier values (i.e., when looking only at those features, the records are indistinguishable).\n",
    "\n",
    "## l = 6\n",
    "The data is anonymised on the sensitive attributes: workclass, occupation\n",
    "with a privacy parameter l=6.\n",
    "\n",
    "This means that in each group there are at least 6 different rows for the sensitive attributes, otherwise the sensitive attributes in the group are suppressed.\n",
    "\n",
    "## t = 0.1\n",
    "The data is anonymised on the sensitive attributes: workclass, occupation\n",
    "with a privacy parameter t=0.1.\n",
    "\n",
    "if the distance between the distribution of a sensitive attribute in this class and the distribution of the attribute in the whole table is no more than a threshold 0.1."
   ]
  },
  {
   "cell_type": "code",
   "execution_count": 285,
   "metadata": {},
   "outputs": [],
   "source": [
    "from apt.utils.datasets import ArrayDataset\n",
    "from apt.anonymization import Anonymize\n",
    "\n",
    "x_train_predictions = np.array([np.argmax(arr) for arr in art_classifier.predict(x_train)])\n",
    "\n",
    "# QI = (race, sex)\n",
    "QI = [53, 52, 51, 50, 49, 48, 47]\n",
    "QI_slices = [[47, 48, 49, 50, 51], [52, 53]]\n",
    "\n",
    "# Sensitive attributes\n",
    "sensitive_attributes = [1, 4]\n",
    "# Anonymizers \n",
    "anonymizer = Anonymize(100, QI, quasi_identifer_slices=QI_slices)\n",
    "anonymizer_l = Anonymize(100, QI, quasi_identifer_slices=QI_slices, l=6, sensitive_attributes=sensitive_attributes)\n",
    "anonymizer_lt = Anonymize(100, QI, quasi_identifer_slices=QI_slices, l=6, t = 0.1, sensitive_attributes=sensitive_attributes)\n",
    "anonymizer_t = Anonymize(100, QI, quasi_identifer_slices=QI_slices, t=0.1, sensitive_attributes=sensitive_attributes)\n",
    "anon = anonymizer.anonymize(ArrayDataset(x_train, x_train_predictions))\n",
    "anon_l = anonymizer_l.anonymize(ArrayDataset(x_train, x_train_predictions))\n",
    "anon_lt = anonymizer_lt.anonymize(ArrayDataset(x_train, x_train_predictions))\n",
    "anon_t = anonymizer_t.anonymize(ArrayDataset(x_train, x_train_predictions))"
   ]
  },
  {
   "cell_type": "code",
   "execution_count": 286,
   "metadata": {},
   "outputs": [
    {
     "name": "stdout",
     "output_type": "stream",
     "text": [
      "Unique rows:  2711\n",
      "Number of rows with the sensitive attributes supressed 0\n"
     ]
    }
   ],
   "source": [
    "# number of distinct rows in original data\n",
    "print(\"Unique rows: \", len(np.unique(x_train, axis=0)))\n",
    "\n",
    "suppressed = np.sum(x_train[sensitive_attributes] == -99)\n",
    "total = np.prod(x_train.shape)\n",
    "print(\"Number of rows with the sensitive attributes supressed\", suppressed)"
   ]
  },
  {
   "cell_type": "markdown",
   "metadata": {},
   "source": [
    "#### Using k-anonymity"
   ]
  },
  {
   "cell_type": "code",
   "execution_count": 287,
   "metadata": {},
   "outputs": [
    {
     "name": "stdout",
     "output_type": "stream",
     "text": [
      "Unique rows:  2476\n",
      "Number of rows with the sensitive attributes supressed 0\n"
     ]
    }
   ],
   "source": [
    "# number of distinct rows in anonymized data (with k-anonymity)\n",
    "print(\"Unique rows: \", len(np.unique(anon, axis=0)))\n",
    "\n",
    "suppressed = np.sum(anon[sensitive_attributes] == -99)\n",
    "total = len(anon)\n",
    "print(\"Number of rows with the sensitive attributes supressed\", suppressed)"
   ]
  },
  {
   "cell_type": "markdown",
   "metadata": {},
   "source": [
    "#### Using k-anonymity and l-diversity"
   ]
  },
  {
   "cell_type": "code",
   "execution_count": 288,
   "metadata": {},
   "outputs": [
    {
     "name": "stdout",
     "output_type": "stream",
     "text": [
      "Unique rows:  2323\n",
      "Number of rows with the sensitive attributes supressed 4\n"
     ]
    }
   ],
   "source": [
    "# number of distinct rows in anonymized data (with k-anonymity and l-diversity)\n",
    "print(\"Unique rows: \", len(np.unique(anon_l, axis=0)))\n",
    "\n",
    "suppressed = np.sum(anon_l[sensitive_attributes] == -99)\n",
    "total = len(anon_l)\n",
    "print(\"Number of rows with the sensitive attributes supressed\", suppressed)"
   ]
  },
  {
   "cell_type": "markdown",
   "metadata": {},
   "source": [
    "#### Using k-anonymity and and t-closeness"
   ]
  },
  {
   "cell_type": "code",
   "execution_count": 289,
   "metadata": {},
   "outputs": [
    {
     "name": "stdout",
     "output_type": "stream",
     "text": [
      "Unique rows:  2352\n",
      "Number of rows with the sensitive attributes supressed 4\n"
     ]
    }
   ],
   "source": [
    "# number of distinct rows in anonymized data (with k-anonymity and l-diversity)\n",
    "print(\"Unique rows: \", len(np.unique(anon_t, axis=0)))\n",
    "\n",
    "suppressed = np.sum(anon_t[sensitive_attributes] == -99)\n",
    "total = len(anon_t)\n",
    "print(\"Number of rows with the sensitive attributes supressed\", suppressed)"
   ]
  },
  {
   "cell_type": "markdown",
   "metadata": {},
   "source": [
    "#### Using k-anonymity, l-diversity and t-closeness"
   ]
  },
  {
   "cell_type": "code",
   "execution_count": 290,
   "metadata": {},
   "outputs": [
    {
     "name": "stdout",
     "output_type": "stream",
     "text": [
      "Unique rows:  2323\n",
      "Number of rows with the sensitive attributes supressed 4\n"
     ]
    }
   ],
   "source": [
    "# number of distinct rows in anonymized data (with k-anonymity, l-diversity and t-closeness)\n",
    "print(\"Unique rows: \", len(np.unique(anon_lt, axis=0)))\n",
    "suppressed = np.sum(anon_lt[sensitive_attributes] == -99)\n",
    "total = len(anon_lt)\n",
    "print(\"Number of rows with the sensitive attributes supressed\", suppressed)"
   ]
  },
  {
   "cell_type": "markdown",
   "metadata": {},
   "source": [
    "## Train decision tree model"
   ]
  },
  {
   "cell_type": "code",
   "execution_count": 291,
   "metadata": {},
   "outputs": [
    {
     "name": "stdout",
     "output_type": "stream",
     "text": [
      "Anonymized model accuracy:  0.8139549167741539\n"
     ]
    }
   ],
   "source": [
    "anon_model = DecisionTreeClassifier()\n",
    "anon_model.fit(x_train, y_train)\n",
    "\n",
    "anon_art_classifier = ScikitlearnDecisionTreeClassifier(anon_model)\n",
    "\n",
    "print('Anonymized model accuracy: ', anon_model.score(x_test, y_test))"
   ]
  },
  {
   "cell_type": "markdown",
   "metadata": {},
   "source": [
    "#### Using k-anonymity"
   ]
  },
  {
   "cell_type": "code",
   "execution_count": 292,
   "metadata": {},
   "outputs": [
    {
     "name": "stdout",
     "output_type": "stream",
     "text": [
      "Anonymized model accuracy:  0.8127879122903998\n"
     ]
    }
   ],
   "source": [
    "anon_model = DecisionTreeClassifier()\n",
    "anon_model.fit(anon, y_train)\n",
    "\n",
    "anon_art_classifier = ScikitlearnDecisionTreeClassifier(anon_model)\n",
    "\n",
    "print('Anonymized model accuracy: ', anon_model.score(x_test, y_test))"
   ]
  },
  {
   "cell_type": "markdown",
   "metadata": {},
   "source": [
    "#### Using k-anonymity and l-diversity"
   ]
  },
  {
   "cell_type": "code",
   "execution_count": 293,
   "metadata": {},
   "outputs": [
    {
     "name": "stdout",
     "output_type": "stream",
     "text": [
      "Anonymized model accuracy:  0.8122965419814507\n"
     ]
    }
   ],
   "source": [
    "anon_model = DecisionTreeClassifier()\n",
    "anon_model.fit(anon_l, y_train)\n",
    "\n",
    "anon_art_classifier = ScikitlearnDecisionTreeClassifier(anon_model)\n",
    "\n",
    "print('Anonymized model accuracy: ', anon_model.score(x_test, y_test))"
   ]
  },
  {
   "cell_type": "markdown",
   "metadata": {},
   "source": [
    "#### Using k-anonymity and t-closeness"
   ]
  },
  {
   "cell_type": "code",
   "execution_count": 294,
   "metadata": {},
   "outputs": [
    {
     "name": "stdout",
     "output_type": "stream",
     "text": [
      "Anonymized model accuracy:  0.786315336895768\n"
     ]
    }
   ],
   "source": [
    "anon_model = DecisionTreeClassifier()\n",
    "anon_model.fit(anon_t, y_train)\n",
    "\n",
    "anon_art_classifier = ScikitlearnDecisionTreeClassifier(anon_model)\n",
    "\n",
    "print('Anonymized model accuracy: ', anon_model.score(x_test, y_test))"
   ]
  },
  {
   "cell_type": "markdown",
   "metadata": {},
   "source": [
    "#### Using k-anonymity, l-diversity and t-closeness"
   ]
  },
  {
   "cell_type": "code",
   "execution_count": 295,
   "metadata": {},
   "outputs": [
    {
     "name": "stdout",
     "output_type": "stream",
     "text": [
      "Anonymized model accuracy:  0.8125422271359253\n"
     ]
    }
   ],
   "source": [
    "anon_model = DecisionTreeClassifier()\n",
    "anon_model.fit(anon_lt, y_train)\n",
    "\n",
    "anon_art_classifier = ScikitlearnDecisionTreeClassifier(anon_model)\n",
    "\n",
    "print('Anonymized model accuracy: ', anon_model.score(x_test, y_test))"
   ]
  }
 ],
 "metadata": {
  "kernelspec": {
   "display_name": "base",
   "language": "python",
   "name": "python3"
  },
  "language_info": {
   "codemirror_mode": {
    "name": "ipython",
    "version": 3
   },
   "file_extension": ".py",
   "mimetype": "text/x-python",
   "name": "python",
   "nbconvert_exporter": "python",
   "pygments_lexer": "ipython3",
   "version": "3.12.3"
  }
 },
 "nbformat": 4,
 "nbformat_minor": 2
}
